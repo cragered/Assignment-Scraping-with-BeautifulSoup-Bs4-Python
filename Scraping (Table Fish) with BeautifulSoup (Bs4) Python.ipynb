{
 "cells": [
  {
   "cell_type": "code",
   "execution_count": 10,
   "id": "55e2266a-929e-44d7-a884-92021156ebb7",
   "metadata": {},
   "outputs": [
    {
     "name": "stdout",
     "output_type": "stream",
     "text": [
      "   TOP 20\\nFISH POPULATIONS            \n",
      "0                       USA  57,750,000\n",
      "1                    France  37,300,000\n",
      "2                    Brazil  26,500,000\n",
      "3                 Australia  20,500,000\n",
      "4                        UK  20,000,000\n",
      "5                   Germany   2,000,000\n",
      "6               New Zealand   1,678,000\n",
      "7                     Italy   1,540,000\n",
      "8                    Russia     770,000\n",
      "9               Netherlands     708,000\n",
      "10                   Sweden     262,000\n",
      "11                   Poland     231,000\n",
      "12                    Spain     170,000\n",
      "13              Switzerland     169,000\n",
      "14                  Belgium     146,000\n",
      "15                  Romania      96,000\n",
      "16                 Portugal      74,000\n",
      "17                  Austria      71,000\n",
      "18                  Hungary      58,000\n",
      "19                   Greece      38,000\n"
     ]
    }
   ],
   "source": [
    "import requests\n",
    "from bs4 import BeautifulSoup\n",
    "import pandas as pd\n",
    "\n",
    "\n",
    "url = 'https://www.petsecure.com.au/pet-care/a-guide-to-worldwide-pet-ownership/'\n",
    "html = requests.get(url)\n",
    "\n",
    "\n",
    "s = BeautifulSoup(html.content, 'html.parser')\n",
    "content = s.find(id='content')\n",
    "\n",
    "\n",
    "table = content.find('table', class_='fish')\n",
    "table_headers = [th.text.strip() for th in table.find('tr').find_all('th')]\n",
    "table_rows = [[td.text.strip() for td in row.find_all('td')] for row in table.find_all('tr')[1:]]\n",
    "\n",
    "\n",
    "df = pd.DataFrame(table_rows, columns=table_headers)\n",
    "df.to_csv('pet_ownership.csv', index=False)\n",
    "\n",
    "print(df)"
   ]
  },
  {
   "cell_type": "code",
   "execution_count": null,
   "id": "eef84cfe-1cfd-435a-b2b6-d49d04f30d8b",
   "metadata": {},
   "outputs": [],
   "source": []
  },
  {
   "cell_type": "code",
   "execution_count": null,
   "id": "813aaf2e-afa3-452a-b4cd-4a5e494a5ad3",
   "metadata": {},
   "outputs": [],
   "source": []
  }
 ],
 "metadata": {
  "kernelspec": {
   "display_name": "Python 3 (ipykernel)",
   "language": "python",
   "name": "python3"
  },
  "language_info": {
   "codemirror_mode": {
    "name": "ipython",
    "version": 3
   },
   "file_extension": ".py",
   "mimetype": "text/x-python",
   "name": "python",
   "nbconvert_exporter": "python",
   "pygments_lexer": "ipython3",
   "version": "3.12.2"
  }
 },
 "nbformat": 4,
 "nbformat_minor": 5
}
